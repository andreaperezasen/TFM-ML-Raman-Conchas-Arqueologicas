{
 "cells": [
  {
   "cell_type": "markdown",
   "metadata": {},
   "source": [
    "# Técnicas de aprendizaje no supervisado y espectroscopía Raman para descubrir patrones de pigmentación en conchas arqueológicas de moluscos\n",
    "\n",
    "Trabajo de Fin de Máster para acceder al **Máster en Ciencia de Datos**\n",
    "\n",
    "Autor: Andrea Pérez Asensio\n",
    "\n",
    "Director: Adolfo Cobo García\n",
    "\n",
    "Co-Director: David Cuenca Solana\n",
    "\n",
    "El objetivo principal de este trabajo es el de analizar espectros Raman de conchas de moluscos para poder estudiar la coloración de las muestras y predecir el color que tuvieron unas conchas arqueológicas que han perdido el color.\n",
    "\n",
    "En este *Notebook* se recoge todo el código utilizado en el análisis de los espectros Raman."
   ]
  },
  {
   "cell_type": "markdown",
   "metadata": {},
   "source": [
    "# 1. Carga de datos y paquetes\n",
    "Se realiza la importación de los paquetes utilizados y se cargan los datos. Se realiza un preprocesado que consiste en la etiquetación y concatenación de los datos, obteniendo un *DataFrame* de *pandas* con un multi-índice"
   ]
  },
  {
   "cell_type": "code",
   "execution_count": null,
   "metadata": {},
   "outputs": [],
   "source": [
    "import numpy as np\n",
    "import pandas as pd\n",
    "#%matplotlib inline\n",
    "import re\n",
    "import os\n",
    "import math\n",
    "import numpy as np\n",
    "import pandas as pd\n",
    "import joblib\n",
    "import warnings\n",
    "import time\n",
    "import matplotlib.pyplot as plt\n",
    "\n",
    "# Importamos nuestras funciones\n",
    "import sys\n",
    "sys.path.append('../Functions')  # Agrega la ruta de la carpeta 'Code' al sistema de archivos temporal\n",
    "from funciones import *  # Importa todas las funciones del módulo funciones.py\n",
    "\n",
    "import representaciones\n",
    "from representaciones import *\n",
    "\n",
    "from sklearn.svm import SVC\n",
    "from sklearn.linear_model import LogisticRegression\n",
    "from sklearn.preprocessing import StandardScaler\n",
    "from sklearn.ensemble import RandomForestClassifier, GradientBoostingClassifier\n",
    "from sklearn.neighbors import KNeighborsClassifier\n",
    "from sklearn.neural_network import MLPClassifier\n",
    "from sklearn.model_selection import train_test_split, GridSearchCV\n",
    "from sklearn.metrics import confusion_matrix, ConfusionMatrixDisplay, roc_curve, classification_report\n",
    "from sklearn.metrics import accuracy_score, recall_score, precision_score, f1_score, roc_auc_score\n",
    "from sklearn.cluster import KMeans, AgglomerativeClustering, DBSCAN, SpectralClustering, Birch\n",
    "from sklearn.decomposition import PCA\n",
    "\n",
    "print(\"Todos los paquetes necesarios han sido importados\")\n",
    "\n",
    "## Parámetros\n",
    "k = 6\n",
    "path = \"../../Data\""
   ]
  },
  {
   "cell_type": "markdown",
   "metadata": {},
   "source": [
    "## Carga inicial de los datos."
   ]
  },
  {
   "cell_type": "code",
   "execution_count": null,
   "metadata": {},
   "outputs": [],
   "source": [
    "# Obtén la lista de archivos en la carpeta\n",
    "files = os.listdir(path)\n",
    "\n",
    "# Filtrar solo los archivos CSV\n",
    "\n",
    "csv_files = [f for f in files if f.endswith('.csv')]\n",
    "\n",
    "data_all = create_df (csv_files, path)\n",
    "\n",
    "print('Todos los archivos han sido cargados')\n",
    "\n",
    "data_all.info()"
   ]
  }
 ],
 "metadata": {
  "language_info": {
   "name": "python"
  }
 },
 "nbformat": 4,
 "nbformat_minor": 2
}
