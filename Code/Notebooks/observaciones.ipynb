{
 "cells": [
  {
   "cell_type": "markdown",
   "metadata": {},
   "source": [
    "Para realizar un correcto preprocesado de los datos es necesario estudiar la posicion de los principales picos raman de los materiales que se van a analizar.\n",
    "Por un lado tenemos el espectro Raman de la calcita, que presenta un pico muy intenso en torno a los 1085 cm-1, y otro pico en torno a los 713 cm-1.\n",
    "\n",
    "Raman Spectroscopy of Carotenoid Compounds for Clinical Applications—A Review\n",
    "https://www.ncbi.nlm.nih.gov/pmc/articles/PMC9784873/\n",
    "\n",
    "De los carotenoides podemos observar que los picos principales se encuentran entre 1000cm^-1 y 1600cm^-1\n"
   ]
  },
  {
   "cell_type": "code",
   "execution_count": null,
   "metadata": {},
   "outputs": [],
   "source": []
  }
 ],
 "metadata": {
  "language_info": {
   "name": "python"
  }
 },
 "nbformat": 4,
 "nbformat_minor": 2
}
